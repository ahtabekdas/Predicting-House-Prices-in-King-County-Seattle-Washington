{
 "cells": [
  {
   "cell_type": "markdown",
   "id": "ef5aa106",
   "metadata": {},
   "source": [
    "# Regression - Ev Fiyatları Tahmin Etme"
   ]
  },
  {
   "cell_type": "code",
   "execution_count": 7,
   "id": "b2ffd425",
   "metadata": {},
   "outputs": [],
   "source": [
    "import pandas as pd \n",
    "from sklearn.model_selection import train_test_split\n",
    "import seaborn as sns\n",
    "import matplotlib.pyplot as plt\n",
    "import numpy as np\n",
    "import plotly.express as px\n",
    "\n",
    "from sklearn.linear_model import LinearRegression\n",
    "from sklearn.linear_model import Ridge, Lasso, ElasticNet\n",
    "from sklearn.metrics import r2_score, mean_squared_error\n",
    "\n",
    "import warnings #uyarıları kapatmak\n",
    "warnings.filterwarnings('ignore')\n",
    "\n",
    "#dosyayı okutma\n",
    "df=pd.read_csv('kc_house_data.csv')\n",
    "\n",
    "#outlier çıkartma\n",
    "df=df[df['bedrooms']<7]\n",
    "df=df[df['bathrooms']<5]\n",
    "\n",
    "#type'ını kategori yapma \n",
    "df['zipcode']=df['zipcode'].astype('category')\n",
    "\n",
    "df['age']=2023-df['yr_built'] # yaşını hesaplıyacağız\n",
    "df['bedrooms']=df['bedrooms']**2 \n",
    "df['bathrooms']=df['bathrooms']**2 \n",
    "df['sqft_living']=df['sqft_living']**2 \n",
    "df['grade']=df['grade']**2\n",
    "df['condition']=df['condition']**2\n",
    "df['basement']=np.where(df['sqft_basement']>0,1,0) # bodrum katı varsa 1 yaz\n",
    "df['renovated']=np.where(df['yr_renovated']>0,1,0) # yenilendiyse 1 yaz\n",
    "\n",
    "outliers=df.quantile(.97) # 0.97 sağdan %3, 0.03 soldan keser\n",
    "df=df[df['price']<outliers['price']]\n",
    "df=df[df['bedrooms']<outliers['bedrooms']]"
   ]
  },
  {
   "cell_type": "code",
   "execution_count": 8,
   "id": "75a04aa4",
   "metadata": {},
   "outputs": [
    {
     "data": {
      "text/plain": [
       "Index(['id', 'date', 'price', 'bedrooms', 'bathrooms', 'sqft_living',\n",
       "       'sqft_lot', 'floors', 'waterfront', 'view', 'condition', 'grade',\n",
       "       'sqft_above', 'sqft_basement', 'yr_built', 'yr_renovated', 'zipcode',\n",
       "       'lat', 'long', 'sqft_living15', 'sqft_lot15', 'age', 'basement',\n",
       "       'renovated'],\n",
       "      dtype='object')"
      ]
     },
     "execution_count": 8,
     "metadata": {},
     "output_type": "execute_result"
    }
   ],
   "source": [
    "df.columns"
   ]
  },
  {
   "cell_type": "code",
   "execution_count": 9,
   "id": "6d6de637",
   "metadata": {},
   "outputs": [
    {
     "data": {
      "text/html": [
       "<div>\n",
       "<style scoped>\n",
       "    .dataframe tbody tr th:only-of-type {\n",
       "        vertical-align: middle;\n",
       "    }\n",
       "\n",
       "    .dataframe tbody tr th {\n",
       "        vertical-align: top;\n",
       "    }\n",
       "\n",
       "    .dataframe thead th {\n",
       "        text-align: right;\n",
       "    }\n",
       "</style>\n",
       "<table border=\"1\" class=\"dataframe\">\n",
       "  <thead>\n",
       "    <tr style=\"text-align: right;\">\n",
       "      <th></th>\n",
       "      <th>id</th>\n",
       "      <th>date</th>\n",
       "      <th>price</th>\n",
       "      <th>bedrooms</th>\n",
       "      <th>bathrooms</th>\n",
       "      <th>sqft_living</th>\n",
       "      <th>sqft_lot</th>\n",
       "      <th>floors</th>\n",
       "      <th>waterfront</th>\n",
       "      <th>view</th>\n",
       "      <th>...</th>\n",
       "      <th>yr_built</th>\n",
       "      <th>yr_renovated</th>\n",
       "      <th>zipcode</th>\n",
       "      <th>lat</th>\n",
       "      <th>long</th>\n",
       "      <th>sqft_living15</th>\n",
       "      <th>sqft_lot15</th>\n",
       "      <th>age</th>\n",
       "      <th>basement</th>\n",
       "      <th>renovated</th>\n",
       "    </tr>\n",
       "  </thead>\n",
       "  <tbody>\n",
       "    <tr>\n",
       "      <th>0</th>\n",
       "      <td>7129300520</td>\n",
       "      <td>20141013T000000</td>\n",
       "      <td>221900.0</td>\n",
       "      <td>9</td>\n",
       "      <td>1.0000</td>\n",
       "      <td>1392400</td>\n",
       "      <td>5650</td>\n",
       "      <td>1.0</td>\n",
       "      <td>0</td>\n",
       "      <td>0</td>\n",
       "      <td>...</td>\n",
       "      <td>1955</td>\n",
       "      <td>0</td>\n",
       "      <td>98178</td>\n",
       "      <td>47.5112</td>\n",
       "      <td>-122.257</td>\n",
       "      <td>1340</td>\n",
       "      <td>5650</td>\n",
       "      <td>68</td>\n",
       "      <td>0</td>\n",
       "      <td>0</td>\n",
       "    </tr>\n",
       "    <tr>\n",
       "      <th>1</th>\n",
       "      <td>6414100192</td>\n",
       "      <td>20141209T000000</td>\n",
       "      <td>538000.0</td>\n",
       "      <td>9</td>\n",
       "      <td>5.0625</td>\n",
       "      <td>6604900</td>\n",
       "      <td>7242</td>\n",
       "      <td>2.0</td>\n",
       "      <td>0</td>\n",
       "      <td>0</td>\n",
       "      <td>...</td>\n",
       "      <td>1951</td>\n",
       "      <td>1991</td>\n",
       "      <td>98125</td>\n",
       "      <td>47.7210</td>\n",
       "      <td>-122.319</td>\n",
       "      <td>1690</td>\n",
       "      <td>7639</td>\n",
       "      <td>72</td>\n",
       "      <td>1</td>\n",
       "      <td>1</td>\n",
       "    </tr>\n",
       "    <tr>\n",
       "      <th>2</th>\n",
       "      <td>5631500400</td>\n",
       "      <td>20150225T000000</td>\n",
       "      <td>180000.0</td>\n",
       "      <td>4</td>\n",
       "      <td>1.0000</td>\n",
       "      <td>592900</td>\n",
       "      <td>10000</td>\n",
       "      <td>1.0</td>\n",
       "      <td>0</td>\n",
       "      <td>0</td>\n",
       "      <td>...</td>\n",
       "      <td>1933</td>\n",
       "      <td>0</td>\n",
       "      <td>98028</td>\n",
       "      <td>47.7379</td>\n",
       "      <td>-122.233</td>\n",
       "      <td>2720</td>\n",
       "      <td>8062</td>\n",
       "      <td>90</td>\n",
       "      <td>0</td>\n",
       "      <td>0</td>\n",
       "    </tr>\n",
       "    <tr>\n",
       "      <th>3</th>\n",
       "      <td>2487200875</td>\n",
       "      <td>20141209T000000</td>\n",
       "      <td>604000.0</td>\n",
       "      <td>16</td>\n",
       "      <td>9.0000</td>\n",
       "      <td>3841600</td>\n",
       "      <td>5000</td>\n",
       "      <td>1.0</td>\n",
       "      <td>0</td>\n",
       "      <td>0</td>\n",
       "      <td>...</td>\n",
       "      <td>1965</td>\n",
       "      <td>0</td>\n",
       "      <td>98136</td>\n",
       "      <td>47.5208</td>\n",
       "      <td>-122.393</td>\n",
       "      <td>1360</td>\n",
       "      <td>5000</td>\n",
       "      <td>58</td>\n",
       "      <td>1</td>\n",
       "      <td>0</td>\n",
       "    </tr>\n",
       "    <tr>\n",
       "      <th>4</th>\n",
       "      <td>1954400510</td>\n",
       "      <td>20150218T000000</td>\n",
       "      <td>510000.0</td>\n",
       "      <td>9</td>\n",
       "      <td>4.0000</td>\n",
       "      <td>2822400</td>\n",
       "      <td>8080</td>\n",
       "      <td>1.0</td>\n",
       "      <td>0</td>\n",
       "      <td>0</td>\n",
       "      <td>...</td>\n",
       "      <td>1987</td>\n",
       "      <td>0</td>\n",
       "      <td>98074</td>\n",
       "      <td>47.6168</td>\n",
       "      <td>-122.045</td>\n",
       "      <td>1800</td>\n",
       "      <td>7503</td>\n",
       "      <td>36</td>\n",
       "      <td>0</td>\n",
       "      <td>0</td>\n",
       "    </tr>\n",
       "  </tbody>\n",
       "</table>\n",
       "<p>5 rows × 24 columns</p>\n",
       "</div>"
      ],
      "text/plain": [
       "           id             date     price  bedrooms  bathrooms  sqft_living  \\\n",
       "0  7129300520  20141013T000000  221900.0         9     1.0000      1392400   \n",
       "1  6414100192  20141209T000000  538000.0         9     5.0625      6604900   \n",
       "2  5631500400  20150225T000000  180000.0         4     1.0000       592900   \n",
       "3  2487200875  20141209T000000  604000.0        16     9.0000      3841600   \n",
       "4  1954400510  20150218T000000  510000.0         9     4.0000      2822400   \n",
       "\n",
       "   sqft_lot  floors  waterfront  view  ...  yr_built  yr_renovated  zipcode  \\\n",
       "0      5650     1.0           0     0  ...      1955             0    98178   \n",
       "1      7242     2.0           0     0  ...      1951          1991    98125   \n",
       "2     10000     1.0           0     0  ...      1933             0    98028   \n",
       "3      5000     1.0           0     0  ...      1965             0    98136   \n",
       "4      8080     1.0           0     0  ...      1987             0    98074   \n",
       "\n",
       "       lat     long  sqft_living15 sqft_lot15  age  basement  renovated  \n",
       "0  47.5112 -122.257           1340       5650   68         0          0  \n",
       "1  47.7210 -122.319           1690       7639   72         1          1  \n",
       "2  47.7379 -122.233           2720       8062   90         0          0  \n",
       "3  47.5208 -122.393           1360       5000   58         1          0  \n",
       "4  47.6168 -122.045           1800       7503   36         0          0  \n",
       "\n",
       "[5 rows x 24 columns]"
      ]
     },
     "execution_count": 9,
     "metadata": {},
     "output_type": "execute_result"
    }
   ],
   "source": [
    "df.head()"
   ]
  },
  {
   "cell_type": "code",
   "execution_count": 10,
   "id": "fbf852d7",
   "metadata": {},
   "outputs": [],
   "source": [
    "x=df[['bedrooms', 'bathrooms', 'sqft_living', 'grade',\n",
    "       'sqft_lot', 'floors', 'waterfront', 'view', 'condition', 'grade',\n",
    "       'sqft_above', 'zipcode', 'sqft_living15', 'sqft_lot15', 'age', 'basement', 'renovated']]\n",
    "y=df['price']\n",
    "\n",
    "x=pd.get_dummies(x,drop_first=True) \n",
    "\n",
    "x_train,x_test,y_train,y_test= train_test_split(x,y,test_size=0.20,random_state=42)\n",
    "\n",
    "lr = LinearRegression()\n",
    "R=Ridge()\n",
    "L=Lasso()"
   ]
  },
  {
   "cell_type": "markdown",
   "id": "9d123971",
   "metadata": {},
   "source": [
    "## Model 1"
   ]
  },
  {
   "cell_type": "code",
   "execution_count": 11,
   "id": "d02cf35a",
   "metadata": {},
   "outputs": [],
   "source": [
    "model=lr.fit(x_train,y_train) #Fit makinanın öğrenmesini sağlıyor"
   ]
  },
  {
   "cell_type": "code",
   "execution_count": 12,
   "id": "f8e67b26",
   "metadata": {},
   "outputs": [],
   "source": [
    "tahmin=model.predict(x_test) #Tahmin ettik"
   ]
  },
  {
   "cell_type": "code",
   "execution_count": 13,
   "id": "f29fe043",
   "metadata": {},
   "outputs": [
    {
     "data": {
      "text/plain": [
       "0.8139365298925918"
      ]
     },
     "execution_count": 13,
     "metadata": {},
     "output_type": "execute_result"
    }
   ],
   "source": [
    "r2_score(tahmin,y_test) #7983"
   ]
  },
  {
   "cell_type": "code",
   "execution_count": 14,
   "id": "dc3e1771",
   "metadata": {},
   "outputs": [
    {
     "data": {
      "text/plain": [
       "89133.55866872334"
      ]
     },
     "execution_count": 14,
     "metadata": {},
     "output_type": "execute_result"
    }
   ],
   "source": [
    "mean_squared_error(tahmin,y_test)**.5 #86049"
   ]
  },
  {
   "cell_type": "markdown",
   "id": "a58ffcc0",
   "metadata": {},
   "source": [
    "## Model 2"
   ]
  },
  {
   "cell_type": "code",
   "execution_count": 15,
   "id": "a1a1b478",
   "metadata": {},
   "outputs": [],
   "source": [
    "model2=L.fit(x_train,y_train)"
   ]
  },
  {
   "cell_type": "code",
   "execution_count": 16,
   "id": "39d56620",
   "metadata": {},
   "outputs": [],
   "source": [
    "tahmin2=model2.predict(x_test)"
   ]
  },
  {
   "cell_type": "code",
   "execution_count": 17,
   "id": "75f7a05b",
   "metadata": {},
   "outputs": [
    {
     "data": {
      "text/plain": [
       "0.8138587361746479"
      ]
     },
     "execution_count": 17,
     "metadata": {},
     "output_type": "execute_result"
    }
   ],
   "source": [
    "r2_score(tahmin2,y_test)"
   ]
  },
  {
   "cell_type": "code",
   "execution_count": 18,
   "id": "c5811196",
   "metadata": {},
   "outputs": [
    {
     "data": {
      "text/plain": [
       "89131.15822160276"
      ]
     },
     "execution_count": 18,
     "metadata": {},
     "output_type": "execute_result"
    }
   ],
   "source": [
    "mean_squared_error(tahmin2,y_test)**.5"
   ]
  },
  {
   "cell_type": "markdown",
   "id": "34ac28f2",
   "metadata": {},
   "source": [
    "## Model 3"
   ]
  },
  {
   "cell_type": "code",
   "execution_count": 19,
   "id": "6ba0aa88",
   "metadata": {},
   "outputs": [],
   "source": [
    "model3=R.fit(x_train,y_train)"
   ]
  },
  {
   "cell_type": "code",
   "execution_count": 20,
   "id": "58f2f665",
   "metadata": {},
   "outputs": [],
   "source": [
    "tahmin3=model3.predict(x_test)"
   ]
  },
  {
   "cell_type": "code",
   "execution_count": 21,
   "id": "6b6960b6",
   "metadata": {},
   "outputs": [
    {
     "data": {
      "text/plain": [
       "0.8121447830678756"
      ]
     },
     "execution_count": 21,
     "metadata": {},
     "output_type": "execute_result"
    }
   ],
   "source": [
    "r2_score(tahmin3,y_test)"
   ]
  },
  {
   "cell_type": "code",
   "execution_count": 22,
   "id": "2a7a6a40",
   "metadata": {},
   "outputs": [
    {
     "data": {
      "text/plain": [
       "89200.27012685574"
      ]
     },
     "execution_count": 22,
     "metadata": {},
     "output_type": "execute_result"
    }
   ],
   "source": [
    "mean_squared_error(tahmin3,y_test)**.5"
   ]
  },
  {
   "cell_type": "markdown",
   "id": "47194cb7",
   "metadata": {},
   "source": [
    "### HATA HESAPLAMA"
   ]
  },
  {
   "cell_type": "code",
   "execution_count": 23,
   "id": "5842fd98",
   "metadata": {},
   "outputs": [
    {
     "data": {
      "text/plain": [
       "89133.55866872334"
      ]
     },
     "execution_count": 23,
     "metadata": {},
     "output_type": "execute_result"
    }
   ],
   "source": [
    "mean_squared_error(tahmin,y_test)**.5  #HATAYI HESAPLIYOR LinearRegression()"
   ]
  },
  {
   "cell_type": "code",
   "execution_count": 24,
   "id": "79c065cf",
   "metadata": {},
   "outputs": [
    {
     "data": {
      "text/plain": [
       "89131.15822160276"
      ]
     },
     "execution_count": 24,
     "metadata": {},
     "output_type": "execute_result"
    }
   ],
   "source": [
    "mean_squared_error(tahmin2,y_test)**.5 #HATAYI HESAPLIYOR Lasso()"
   ]
  },
  {
   "cell_type": "code",
   "execution_count": 25,
   "id": "7906f355",
   "metadata": {},
   "outputs": [
    {
     "data": {
      "text/plain": [
       "89200.27012685574"
      ]
     },
     "execution_count": 25,
     "metadata": {},
     "output_type": "execute_result"
    }
   ],
   "source": [
    "mean_squared_error(tahmin3,y_test)**.5 #HATAYI HESAPLIYOR Ridge()"
   ]
  },
  {
   "cell_type": "markdown",
   "id": "03ee0ece",
   "metadata": {},
   "source": [
    "# HEDEF = R2> 0.80"
   ]
  },
  {
   "cell_type": "markdown",
   "id": "2ed93fec",
   "metadata": {},
   "source": [
    "### SKOR"
   ]
  },
  {
   "cell_type": "code",
   "execution_count": 26,
   "id": "3d734f41",
   "metadata": {},
   "outputs": [
    {
     "data": {
      "text/plain": [
       "0.8139365298925918"
      ]
     },
     "execution_count": 26,
     "metadata": {},
     "output_type": "execute_result"
    }
   ],
   "source": [
    "r2_score(tahmin,y_test)"
   ]
  },
  {
   "cell_type": "code",
   "execution_count": 27,
   "id": "2a369ce6",
   "metadata": {},
   "outputs": [
    {
     "data": {
      "text/plain": [
       "0.8138587361746479"
      ]
     },
     "execution_count": 27,
     "metadata": {},
     "output_type": "execute_result"
    }
   ],
   "source": [
    "r2_score(tahmin2,y_test)"
   ]
  },
  {
   "cell_type": "code",
   "execution_count": 28,
   "id": "cc1cd7b3",
   "metadata": {},
   "outputs": [
    {
     "data": {
      "text/plain": [
       "0.8121447830678756"
      ]
     },
     "execution_count": 28,
     "metadata": {},
     "output_type": "execute_result"
    }
   ],
   "source": [
    "r2_score(tahmin3,y_test)"
   ]
  }
 ],
 "metadata": {
  "kernelspec": {
   "display_name": "Python 3 (ipykernel)",
   "language": "python",
   "name": "python3"
  },
  "language_info": {
   "codemirror_mode": {
    "name": "ipython",
    "version": 3
   },
   "file_extension": ".py",
   "mimetype": "text/x-python",
   "name": "python",
   "nbconvert_exporter": "python",
   "pygments_lexer": "ipython3",
   "version": "3.11.4"
  }
 },
 "nbformat": 4,
 "nbformat_minor": 5
}
